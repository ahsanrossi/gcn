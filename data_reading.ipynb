{
  "nbformat": 4,
  "nbformat_minor": 0,
  "metadata": {
    "colab": {
      "name": "data_reading.ipynb",
      "provenance": [],
      "collapsed_sections": [],
      "authorship_tag": "ABX9TyPoLPSD1G8h/GTK6pp9WvVR",
      "include_colab_link": true
    },
    "kernelspec": {
      "name": "python3",
      "display_name": "Python 3"
    }
  },
  "cells": [
    {
      "cell_type": "markdown",
      "metadata": {
        "id": "view-in-github",
        "colab_type": "text"
      },
      "source": [
        "<a href=\"https://colab.research.google.com/github/ahsanrossi/gcn/blob/master/data_reading.ipynb\" target=\"_parent\"><img src=\"https://colab.research.google.com/assets/colab-badge.svg\" alt=\"Open In Colab\"/></a>"
      ]
    },
    {
      "cell_type": "code",
      "metadata": {
        "id": "yfMdK7DfXDIW",
        "colab_type": "code",
        "colab": {}
      },
      "source": [
        "path=\"/data/\"\n",
        "dataset = \"cora\"\n",
        "\n",
        "url = \"https://raw.githubusercontent.com/ahsanrossi/gcn/master/data/cora.content\""
      ],
      "execution_count": 0,
      "outputs": []
    },
    {
      "cell_type": "code",
      "metadata": {
        "id": "s5Ha8SLkXSRb",
        "colab_type": "code",
        "colab": {}
      },
      "source": [
        "import torch\n",
        "import numpy as np\n",
        "import pandas as pd\n",
        "import scipy.sparse as sp"
      ],
      "execution_count": 0,
      "outputs": []
    },
    {
      "cell_type": "code",
      "metadata": {
        "id": "hj-nyfNtXbP-",
        "colab_type": "code",
        "colab": {}
      },
      "source": [
        "df = np.genfromtxt(\"{}\".format(url))\n",
        "\n",
        "#df = pd.read_csv(url)"
      ],
      "execution_count": 0,
      "outputs": []
    },
    {
      "cell_type": "code",
      "metadata": {
        "id": "IOhAVTRSYt_P",
        "colab_type": "code",
        "colab": {
          "base_uri": "https://localhost:8080/",
          "height": 136
        },
        "outputId": "e9ad9988-3403-4a83-98e5-b348ae038e31"
      },
      "source": [
        "df"
      ],
      "execution_count": 17,
      "outputs": [
        {
          "output_type": "execute_result",
          "data": {
            "text/plain": [
              "array([[  31336.,       0.,       0., ...,       0.,       0.,      nan],\n",
              "       [1061127.,       0.,       0., ...,       0.,       0.,      nan],\n",
              "       [1106406.,       0.,       0., ...,       0.,       0.,      nan],\n",
              "       ...,\n",
              "       [1128978.,       0.,       0., ...,       0.,       0.,      nan],\n",
              "       [ 117328.,       0.,       0., ...,       0.,       0.,      nan],\n",
              "       [  24043.,       0.,       0., ...,       0.,       0.,      nan]])"
            ]
          },
          "metadata": {
            "tags": []
          },
          "execution_count": 17
        }
      ]
    },
    {
      "cell_type": "code",
      "metadata": {
        "id": "-qNP9I7faZE9",
        "colab_type": "code",
        "colab": {}
      },
      "source": [
        ""
      ],
      "execution_count": 0,
      "outputs": []
    }
  ]
}